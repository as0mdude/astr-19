{
 "cells": [
  {
   "cell_type": "code",
   "execution_count": 3,
   "metadata": {},
   "outputs": [],
   "source": [
    "import math\n",
    "\n",
    "def sin(x):\n",
    "    return math.sin(x)"
   ]
  },
  {
   "cell_type": "markdown",
   "metadata": {},
   "source": [
    "Inputs x, returns the sine of x"
   ]
  },
  {
   "cell_type": "code",
   "execution_count": 8,
   "metadata": {},
   "outputs": [],
   "source": [
    "import math\n",
    "\n",
    "def cos(x):\n",
    "    return math.cos(x)"
   ]
  },
  {
   "cell_type": "markdown",
   "metadata": {},
   "source": [
    "Inputs x, returns the cosine of x"
   ]
  },
  {
   "cell_type": "code",
   "execution_count": 6,
   "metadata": {},
   "outputs": [
    {
     "data": {
      "text/plain": [
       "[(0.0, 0.0, 1.0),\n",
       " (0.002002002002002002, 0.0020020006646609234, 0.9999979959946613),\n",
       " (0.004004004004004004, 0.004003993305281807, 0.9999919839866774),\n",
       " (0.006006006006006006, 0.0060059698978547705, 0.9999819640001444),\n",
       " (0.008008008008008008, 0.008007922418436255, 0.9999679360752225),\n",
       " (0.01001001001001001, 0.010009842843179184, 0.9999499002681359),\n",
       " (0.012012012012012012, 0.012011723148365119, 0.9999278566511721),\n",
       " (0.014014014014014014, 0.014013555310436422, 0.9999018053126824),\n",
       " (0.016016016016016016, 0.016015331306028415, 0.9998717463570806),\n",
       " (0.018018018018018018, 0.01801704311200153, 0.9998376799048435)]"
      ]
     },
     "execution_count": 6,
     "metadata": {},
     "output_type": "execute_result"
    }
   ],
   "source": [
    "import numpy as np\n",
    "\n",
    "\n",
    "x_values = np.linspace(0, 2, 1000)\n",
    "\n",
    "\n",
    "sin_values = [sin(x) for x in x_values]\n",
    "cos_values = [cos(x) for x in x_values]\n",
    "\n",
    "\n",
    "for i in range(10):\n",
    "    x = x_values[i]\n",
    "    sin_x = sin_values[i]\n",
    "    cos_x = cos_values[i]\n",
    "    print(f\"x = {x:.4f}, sin(x) = {sin_x:.4f}, cos(x) = {cos_x:.4f}\")"
   ]
  },
  {
   "cell_type": "markdown",
   "metadata": {},
   "source": [
    "Generate an array of x values between 0 and 2 with a thousand entries, calculates sin(x) and cos(x) for each x, then displays the first 10 values"
   ]
  },
  {
   "cell_type": "code",
   "execution_count": 7,
   "metadata": {},
   "outputs": [
    {
     "name": "stdout",
     "output_type": "stream",
     "text": [
      "x\t\t sin(x)\t\t cos(x)\n",
      "0.0000\t 0.0000\t 1.0000\n",
      "0.0020\t 0.0020\t 1.0000\n",
      "0.0040\t 0.0040\t 1.0000\n",
      "0.0060\t 0.0060\t 1.0000\n",
      "0.0080\t 0.0080\t 1.0000\n",
      "0.0100\t 0.0100\t 0.9999\n",
      "0.0120\t 0.0120\t 0.9999\n",
      "0.0140\t 0.0140\t 0.9999\n",
      "0.0160\t 0.0160\t 0.9999\n",
      "0.0180\t 0.0180\t 0.9998\n"
     ]
    }
   ],
   "source": [
    "print(\"x\\t\\t sin(x)\\t\\t cos(x)\")\n",
    "for i in range(10):\n",
    "    print(f\"{x_values[i]:.4f}\\t {sin_values[i]:.4f}\\t {cos_values[i]:.4f}\")"
   ]
  },
  {
   "cell_type": "markdown",
   "metadata": {},
   "source": [
    "Displays the first 10 values of x, sin(x), and cos(x) in columns"
   ]
  }
 ],
 "metadata": {
  "kernelspec": {
   "display_name": "Python 3",
   "language": "python",
   "name": "python3"
  },
  "language_info": {
   "codemirror_mode": {
    "name": "ipython",
    "version": 3
   },
   "file_extension": ".py",
   "mimetype": "text/x-python",
   "name": "python",
   "nbconvert_exporter": "python",
   "pygments_lexer": "ipython3",
   "version": "3.11.4"
  }
 },
 "nbformat": 4,
 "nbformat_minor": 2
}
