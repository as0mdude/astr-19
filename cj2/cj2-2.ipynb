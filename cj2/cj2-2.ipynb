{
 "cells": [
  {
   "cell_type": "code",
   "execution_count": null,
   "metadata": {},
   "outputs": [],
   "source": [
    "import numpy as np\n",
    "import matplotlib.pyplot as plt\n",
    "%matplotlib inline\n",
    "\n",
    "\n",
    "\n",
    "x = np.linspace(0, 1, 100)"
   ]
  },
  {
   "cell_type": "code",
   "execution_count": null,
   "metadata": {},
   "outputs": [],
   "source": [
    "def sin_x(x):\n",
    "    return np.sin(x)\n"
   ]
  },
  {
   "cell_type": "code",
   "execution_count": null,
   "metadata": {},
   "outputs": [],
   "source": [
    "def cos_x(x):\n",
    "    return np.cos(x)"
   ]
  },
  {
   "cell_type": "code",
   "execution_count": null,
   "metadata": {},
   "outputs": [],
   "source": [
    "fig, axs = plt.subplots(1, 2, figsize=(12, 6))\n",
    "\n",
    "# Plot sin(x) vs. x in the left panel\n",
    "axs[0].plot(x, sin_x(x))\n",
    "axs[0].set_title('sin(x)')\n",
    "axs[0].set_xlabel('x')\n",
    "axs[0].set_ylabel('sin(x')\n",
    "\n",
    "# Plot cos(x) vs. x in the right panel\n",
    "axs[1].plot(x, cos_x(x))\n",
    "axs[1].set_title('cos(x)')\n",
    "axs[1].set_xlabel('x')\n",
    "axs[1].set_ylabel('cos(x')\n",
    "\n",
    "# Adjust the layout\n",
    "plt.tight_layout()\n",
    "\n",
    "# Save the figure as a PDF\n",
    "plt.savefig('sin_cos_plot.pdf', format='pdf')"
   ]
  }
 ],
 "metadata": {
  "language_info": {
   "name": "python"
  }
 },
 "nbformat": 4,
 "nbformat_minor": 2
}
